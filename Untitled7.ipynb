{
  "nbformat": 4,
  "nbformat_minor": 0,
  "metadata": {
    "colab": {
      "provenance": []
    },
    "kernelspec": {
      "name": "python3",
      "display_name": "Python 3"
    },
    "language_info": {
      "name": "python"
    }
  },
  "cells": [
    {
      "cell_type": "code",
      "execution_count": 1,
      "metadata": {
        "colab": {
          "base_uri": "https://localhost:8080/"
        },
        "id": "FELlTgYRzDSA",
        "outputId": "10438a03-0906-49c5-8fd5-2f6ebfeb4fb4"
      },
      "outputs": [
        {
          "output_type": "stream",
          "name": "stdout",
          "text": [
            "123\n"
          ]
        }
      ],
      "source": [
        "# 練習用\n",
        "c =\"123\"\n",
        "print(c)\n"
      ]
    },
    {
      "cell_type": "code",
      "source": [
        "c = \"こんにちは、Python\"\n",
        "print(c)"
      ],
      "metadata": {
        "colab": {
          "base_uri": "https://localhost:8080/"
        },
        "id": "URCrAzEWziOa",
        "outputId": "7f822a0c-27ce-4a96-f452-d1da4a0dc15b"
      },
      "execution_count": 2,
      "outputs": [
        {
          "output_type": "stream",
          "name": "stdout",
          "text": [
            "こんにちは、Python\n"
          ]
        }
      ]
    },
    {
      "cell_type": "code",
      "source": [
        "#練習用\n",
        "dog_name = \"pochi\"\n",
        "print(dog_name)\n",
        "\n",
        "number123=123\n",
        "print(number123)"
      ],
      "metadata": {
        "colab": {
          "base_uri": "https://localhost:8080/"
        },
        "id": "6lRCoN610NsM",
        "outputId": "0e152fbd-3eb7-4d36-b6bb-c1b808057b62"
      },
      "execution_count": 3,
      "outputs": [
        {
          "output_type": "stream",
          "name": "stdout",
          "text": [
            "pochi\n",
            "123\n"
          ]
        }
      ]
    },
    {
      "cell_type": "code",
      "source": [
        "from binascii import b2a_base64\n",
        "#練習用\n",
        "a=7\n",
        "b=3\n",
        "\n",
        "c=a+b\n",
        "print(c)\n",
        "\n",
        "d=a-b\n",
        "print(d)\n",
        "\n",
        "e=a*b\n",
        "print(e)\n",
        "\n",
        "f=a/b\n",
        "print(f)\n",
        "\n",
        "g=a//b\n",
        "print(g)\n",
        "\n",
        "h=a%b \n",
        "print(h)\n"
      ],
      "metadata": {
        "colab": {
          "base_uri": "https://localhost:8080/"
        },
        "id": "x8X-RVPW01fR",
        "outputId": "aa126108-a982-42a5-c402-c0e867bbbf89"
      },
      "execution_count": 5,
      "outputs": [
        {
          "output_type": "stream",
          "name": "stdout",
          "text": [
            "10\n",
            "4\n",
            "21\n",
            "2.3333333333333335\n",
            "2\n",
            "1\n"
          ]
        }
      ]
    }
  ]
}